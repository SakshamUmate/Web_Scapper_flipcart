{
 "cells": [
  {
   "cell_type": "code",
   "execution_count": 5,
   "metadata": {},
   "outputs": [],
   "source": [
    "from bs4 import BeautifulSoup as bs \n",
    "from urllib.request import urlopen as uReq\n",
    "import logging\n",
    "import requests"
   ]
  },
  {
   "cell_type": "code",
   "execution_count": 6,
   "metadata": {},
   "outputs": [],
   "source": [
    "flipcart_url=\"https://www.flipkart.com/search?q=\"+\"iphone+15+pro+max\""
   ]
  },
  {
   "cell_type": "code",
   "execution_count": 7,
   "metadata": {},
   "outputs": [
    {
     "data": {
      "text/plain": [
       "'https://www.flipkart.com/search?q=iphone+15+pro+max'"
      ]
     },
     "execution_count": 7,
     "metadata": {},
     "output_type": "execute_result"
    }
   ],
   "source": [
    "flipcart_url"
   ]
  },
  {
   "cell_type": "code",
   "execution_count": 8,
   "metadata": {},
   "outputs": [],
   "source": [
    "urlclient=uReq(flipcart_url)"
   ]
  },
  {
   "cell_type": "code",
   "execution_count": 9,
   "metadata": {},
   "outputs": [],
   "source": [
    "flipcart_page=urlclient.read()"
   ]
  },
  {
   "cell_type": "code",
   "execution_count": 10,
   "metadata": {},
   "outputs": [],
   "source": [
    "flipcart_html=bs(flipcart_page,\"html.parser\")  #html.parser is states page is html so arange according it"
   ]
  },
  {
   "cell_type": "code",
   "execution_count": 11,
   "metadata": {},
   "outputs": [],
   "source": [
    "href=\"/apple-iphone-15-pro-max-blue-titanium-512-gb/p/itm6c09b030de0b1?pid=MOBGTAGQHTDXYSHG&lid=LSTMOBGTAGQHTDXYSHGCIJXQO&marketplace=FLIPKART&q=iphone+15+pro+max&store=tyy%2F4io&srno=s_1_6&otracker=AS_QueryStore_OrganicAutoSuggest_2_9_na_na_ps&otracker1=AS_QueryStore_OrganicAutoSuggest_2_9_na_na_ps&fm=organic&iid=fc2b45c9-630c-4411-8e6b-98cf01b9d3bc.MOBGTAGQHTDXYSHG.SEARCH&ppt=sp&ppn=sp&ssid=teg0a8m88w0000001704372506627&qH=4bc0516d32b4b645\""
   ]
  },
  {
   "cell_type": "code",
   "execution_count": 12,
   "metadata": {},
   "outputs": [
    {
     "data": {
      "text/plain": [
       "'https://www.flipkart.com/apple-iphone-15-pro-max-blue-titanium-512-gb/p/itm6c09b030de0b1?pid=MOBGTAGQHTDXYSHG&lid=LSTMOBGTAGQHTDXYSHGCIJXQO&marketplace=FLIPKART&q=iphone+15+pro+max&store=tyy%2F4io&srno=s_1_6&otracker=AS_QueryStore_OrganicAutoSuggest_2_9_na_na_ps&otracker1=AS_QueryStore_OrganicAutoSuggest_2_9_na_na_ps&fm=organic&iid=fc2b45c9-630c-4411-8e6b-98cf01b9d3bc.MOBGTAGQHTDXYSHG.SEARCH&ppt=sp&ppn=sp&ssid=teg0a8m88w0000001704372506627&qH=4bc0516d32b4b645'"
      ]
     },
     "execution_count": 12,
     "metadata": {},
     "output_type": "execute_result"
    }
   ],
   "source": [
    "\"https://www.flipkart.com\"+href #it manualy genrated click"
   ]
  },
  {
   "cell_type": "code",
   "execution_count": 13,
   "metadata": {},
   "outputs": [],
   "source": [
    "#Now auto geration of click\n",
    "bigbox=flipcart_html.find_all(\"div\",{\"class\":\"_1AtVbE col-12-12\"})"
   ]
  },
  {
   "cell_type": "code",
   "execution_count": 14,
   "metadata": {},
   "outputs": [
    {
     "data": {
      "text/plain": [
       "31"
      ]
     },
     "execution_count": 14,
     "metadata": {},
     "output_type": "execute_result"
    }
   ],
   "source": [
    "len(bigbox)"
   ]
  },
  {
   "cell_type": "code",
   "execution_count": 15,
   "metadata": {},
   "outputs": [],
   "source": [
    "del bigbox[-9:-1] \n",
    "del bigbox[-1] \n",
    "del bigbox[:3]"
   ]
  },
  {
   "cell_type": "code",
   "execution_count": 16,
   "metadata": {},
   "outputs": [
    {
     "data": {
      "text/plain": [
       "19"
      ]
     },
     "execution_count": 16,
     "metadata": {},
     "output_type": "execute_result"
    }
   ],
   "source": [
    "len(bigbox)"
   ]
  },
  {
   "cell_type": "code",
   "execution_count": 17,
   "metadata": {},
   "outputs": [
    {
     "data": {
      "text/plain": [
       "'/apple-iphone-15-pro-max-white-titanium-256-gb/p/itm35b922bbbefc9?pid=MOBGTAGQ8DDHVKZM&lid=LSTMOBGTAGQ8DDHVKZMSRYDKK&marketplace=FLIPKART&q=iphone+15+pro+max&store=tyy%2F4io&srno=s_1_4&otracker=search&fm=organic&iid=b5ca5a18-6802-44c2-a51d-0e5a33641091.MOBGTAGQ8DDHVKZM.SEARCH&ppt=None&ppn=None&ssid=v4epgnx0ow0000001704376696723&qH=4bc0516d32b4b645'"
      ]
     },
     "execution_count": 17,
     "metadata": {},
     "output_type": "execute_result"
    }
   ],
   "source": [
    "bigbox[3].div.div.div.a[\"href\"]"
   ]
  },
  {
   "cell_type": "code",
   "execution_count": 18,
   "metadata": {},
   "outputs": [],
   "source": [
    "fl=\"https://www.flipkart.com\""
   ]
  },
  {
   "cell_type": "code",
   "execution_count": 19,
   "metadata": {},
   "outputs": [],
   "source": [
    "l=[]\n",
    "for i in range(len(bigbox)):\n",
    "    l.append(fl+bigbox[i].div.div.div.a[\"href\"])\n",
    "    \n",
    "    "
   ]
  },
  {
   "cell_type": "code",
   "execution_count": 20,
   "metadata": {},
   "outputs": [
    {
     "data": {
      "text/plain": [
       "'https://www.flipkart.com/apple-iphone-15-pro-max-natural-titanium-256-gb/p/itm9d44960698192?pid=MOBGTAGQH6K7YMJU&lid=LSTMOBGTAGQH6K7YMJU74VM64&marketplace=FLIPKART&q=iphone+15+pro+max&store=tyy%2F4io&srno=s_1_1&otracker=search&fm=organic&iid=b5ca5a18-6802-44c2-a51d-0e5a33641091.MOBGTAGQH6K7YMJU.SEARCH&ppt=None&ppn=None&ssid=v4epgnx0ow0000001704376696723&qH=4bc0516d32b4b645'"
      ]
     },
     "execution_count": 20,
     "metadata": {},
     "output_type": "execute_result"
    }
   ],
   "source": [
    "a1=l[0]\n",
    "a1"
   ]
  },
  {
   "cell_type": "code",
   "execution_count": 24,
   "metadata": {},
   "outputs": [],
   "source": [
    "a=requests.get(a1)"
   ]
  },
  {
   "cell_type": "code",
   "execution_count": 25,
   "metadata": {},
   "outputs": [],
   "source": [
    "a=bs(a.text,\"html.parser\")"
   ]
  },
  {
   "cell_type": "code",
   "execution_count": 26,
   "metadata": {},
   "outputs": [
    {
     "data": {
      "text/plain": [
       "<html><body><h1>500 Internal Server Error</h1>\n",
       "An internal server error occurred.\n",
       "</body></html>"
      ]
     },
     "execution_count": 26,
     "metadata": {},
     "output_type": "execute_result"
    }
   ],
   "source": [
    "a"
   ]
  },
  {
   "cell_type": "markdown",
   "metadata": {},
   "source": [
    "\n",
    "# start code  again "
   ]
  },
  {
   "cell_type": "code",
   "execution_count": 11,
   "metadata": {},
   "outputs": [],
   "source": [
    "from bs4 import  BeautifulSoup as bs \n",
    "from urllib.request import urlopen as uReq\n",
    "import requests\n",
    "\n",
    "flipcart_url=\"https://www.flipkart.com/search?q=\"+\"iphone+10\"\n",
    "\n",
    "urlclient= uReq(flipcart_url)\n",
    "\n",
    "flip_page=urlclient.read()\n",
    "\n",
    "flip_html=bs(flip_page,\"html.parser\")\n",
    "\n",
    "bigbox=flip_html.findAll(\"div\",{\"class\":\"_1AtVbE col-12-12\"})\n",
    "\n",
    "del bigbox[:3]\n",
    "del bigbox[-5:]\n"
   ]
  },
  {
   "cell_type": "code",
   "execution_count": null,
   "metadata": {},
   "outputs": [],
   "source": [
    "l=[]\n",
    "for i in range(len(bigbox)):\n",
    "    # b=\"https://www.flipkart.com\"+ bigbox[i].div.div.div.a['href']\n",
    "    # l.append(b)\n",
    "    "
   ]
  },
  {
   "cell_type": "code",
   "execution_count": null,
   "metadata": {},
   "outputs": [],
   "source": [
    "#try\n",
    "a1=\"https://www.flipkart.com\"+bigbox[1].div.div.div.a['href']\n",
    "\n",
    "product=uReq(a1)\n",
    "\n",
    "pro_html=bs(product.read(),\"html.parser\")\n",
    "\n",
    "comentbox=pro_html.find_all(\"div\",{\"class\":\"_16PBlm\"})"
   ]
  },
  {
   "cell_type": "code",
   "execution_count": 60,
   "metadata": {},
   "outputs": [
    {
     "name": "stdout",
     "output_type": "stream",
     "text": [
      "Rahul Prasad \n",
      "Ajay Kumar\n",
      "Avi Nash\n",
      "Tara singh mehra\n",
      "Flipkart Customer\n",
      "Waqar ahmed\n",
      "Narendar Redyy\n",
      "ravi sharma\n",
      "Ashwini  biswal \n",
      "Sanket  Hange \n"
     ]
    },
    {
     "ename": "AttributeError",
     "evalue": "'NoneType' object has no attribute 'div'",
     "output_type": "error",
     "traceback": [
      "\u001b[1;31m---------------------------------------------------------------------------\u001b[0m",
      "\u001b[1;31mAttributeError\u001b[0m                            Traceback (most recent call last)",
      "Cell \u001b[1;32mIn[60], line 3\u001b[0m\n\u001b[0;32m      1\u001b[0m \u001b[38;5;66;03m# all Names\u001b[39;00m\n\u001b[0;32m      2\u001b[0m \u001b[38;5;28;01mfor\u001b[39;00m i \u001b[38;5;129;01min\u001b[39;00m \u001b[38;5;28mrange\u001b[39m(\u001b[38;5;28mlen\u001b[39m(comentbox)):\n\u001b[1;32m----> 3\u001b[0m     \u001b[38;5;28mprint\u001b[39m(\u001b[43mcomentbox\u001b[49m\u001b[43m[\u001b[49m\u001b[43mi\u001b[49m\u001b[43m]\u001b[49m\u001b[38;5;241;43m.\u001b[39;49m\u001b[43mdiv\u001b[49m\u001b[38;5;241;43m.\u001b[39;49m\u001b[43mdiv\u001b[49m\u001b[38;5;241m.\u001b[39mfind_all(\u001b[38;5;124m\"\u001b[39m\u001b[38;5;124mp\u001b[39m\u001b[38;5;124m\"\u001b[39m,{\u001b[38;5;124m\"\u001b[39m\u001b[38;5;124mclass\u001b[39m\u001b[38;5;124m\"\u001b[39m:\u001b[38;5;124m\"\u001b[39m\u001b[38;5;124m_2sc7ZR _2V5EHH\u001b[39m\u001b[38;5;124m\"\u001b[39m})[\u001b[38;5;241m0\u001b[39m]\u001b[38;5;241m.\u001b[39mtext)\n",
      "\u001b[1;31mAttributeError\u001b[0m: 'NoneType' object has no attribute 'div'"
     ]
    }
   ],
   "source": [
    "# all Names\n",
    "for i in range(len(comentbox)):\n",
    "    print(comentbox[i].div.div.find_all(\"p\",{\"class\":\"_2sc7ZR _2V5EHH\"})[0].text)"
   ]
  },
  {
   "cell_type": "code",
   "execution_count": 59,
   "metadata": {},
   "outputs": [
    {
     "name": "stdout",
     "output_type": "stream",
     "text": [
      "5\n",
      "5\n",
      "5\n",
      "5\n",
      "5\n",
      "5\n",
      "4\n",
      "5\n",
      "4\n",
      "5\n"
     ]
    },
    {
     "ename": "AttributeError",
     "evalue": "'NoneType' object has no attribute 'div'",
     "output_type": "error",
     "traceback": [
      "\u001b[1;31m---------------------------------------------------------------------------\u001b[0m",
      "\u001b[1;31mAttributeError\u001b[0m                            Traceback (most recent call last)",
      "Cell \u001b[1;32mIn[59], line 3\u001b[0m\n\u001b[0;32m      1\u001b[0m \u001b[38;5;66;03m# All ratings\u001b[39;00m\n\u001b[0;32m      2\u001b[0m \u001b[38;5;28;01mfor\u001b[39;00m i \u001b[38;5;129;01min\u001b[39;00m comentbox:\n\u001b[1;32m----> 3\u001b[0m     \u001b[38;5;28mprint\u001b[39m(\u001b[43mi\u001b[49m\u001b[38;5;241;43m.\u001b[39;49m\u001b[43mdiv\u001b[49m\u001b[38;5;241;43m.\u001b[39;49m\u001b[43mdiv\u001b[49m\u001b[38;5;241m.\u001b[39mdiv\u001b[38;5;241m.\u001b[39mdiv\u001b[38;5;241m.\u001b[39mtext)\n",
      "\u001b[1;31mAttributeError\u001b[0m: 'NoneType' object has no attribute 'div'"
     ]
    }
   ],
   "source": [
    "# All ratings\n",
    "for i in comentbox:\n",
    "    print(i.div.div.div.div.text)"
   ]
  },
  {
   "cell_type": "code",
   "execution_count": 58,
   "metadata": {},
   "outputs": [
    {
     "name": "stdout",
     "output_type": "stream",
     "text": [
      "Fabulous!\n",
      "Excellent\n",
      "Just wow!\n",
      "Great product\n",
      "Great product\n",
      "Best in the market!\n",
      "Very Good\n",
      "Classy product\n",
      "Good quality product\n",
      "Must buy!\n"
     ]
    },
    {
     "ename": "AttributeError",
     "evalue": "'NoneType' object has no attribute 'div'",
     "output_type": "error",
     "traceback": [
      "\u001b[1;31m---------------------------------------------------------------------------\u001b[0m",
      "\u001b[1;31mAttributeError\u001b[0m                            Traceback (most recent call last)",
      "Cell \u001b[1;32mIn[58], line 3\u001b[0m\n\u001b[0;32m      1\u001b[0m \u001b[38;5;66;03m#\u001b[39;00m\n\u001b[0;32m      2\u001b[0m \u001b[38;5;28;01mfor\u001b[39;00m i \u001b[38;5;129;01min\u001b[39;00m comentbox:\n\u001b[1;32m----> 3\u001b[0m     \u001b[38;5;28mprint\u001b[39m(\u001b[43mi\u001b[49m\u001b[38;5;241;43m.\u001b[39;49m\u001b[43mdiv\u001b[49m\u001b[38;5;241;43m.\u001b[39;49m\u001b[43mdiv\u001b[49m\u001b[38;5;241m.\u001b[39mdiv\u001b[38;5;241m.\u001b[39mfind_all(\u001b[38;5;124m\"\u001b[39m\u001b[38;5;124mp\u001b[39m\u001b[38;5;124m\"\u001b[39m,{\u001b[38;5;124m\"\u001b[39m\u001b[38;5;124mclass\u001b[39m\u001b[38;5;124m\"\u001b[39m:\u001b[38;5;124m\"\u001b[39m\u001b[38;5;124m_2-N8zT\u001b[39m\u001b[38;5;124m\"\u001b[39m})[\u001b[38;5;241m0\u001b[39m]\u001b[38;5;241m.\u001b[39mtext)\n",
      "\u001b[1;31mAttributeError\u001b[0m: 'NoneType' object has no attribute 'div'"
     ]
    }
   ],
   "source": [
    "#\n",
    "for i in comentbox:\n",
    "    print(i.div.div.div.find_all(\"p\",{\"class\":\"_2-N8zT\"})[0].text)"
   ]
  },
  {
   "cell_type": "code",
   "execution_count": 68,
   "metadata": {},
   "outputs": [
    {
     "name": "stdout",
     "output_type": "stream",
     "text": [
      "Best smart phone under this price range compare to other phones in 2023 if you see overall build quality, performance and Camera with autofocus and video action mode are awesome50% extra RAM compared to iPhone 13 and other more features. Best time to upgrade to iPhone 14 . I am so happy See Low light photos are amazing..\n",
      "Just amazing!\n",
      "Good\n",
      "Nice camera but battery drain fast specially on video recording\n",
      "Damn such a great phone. Camera is really good, battery lasts long enough, super smooth even though its just 60 hz XDR display. Videos with action mode on are insanely stable and crisp.The night mode can take some really good shots jn low light conditions .The whole apple environment itself is so seamless. I shifted from android to iPhone and it barely took any time since I had iPad and a mac already. With a just a few clicks the phone was ready to go.\n",
      "Amazing picture quality, awesome design, mind blowing display and fabulous performance and specially very handy phone\n",
      "Nice UI and Fast\n",
      "I switch  from x r  to 14 great experience Best display and sound quality and some fabulous changes in camera is also.great\n",
      "Awesome 👍\n",
      "The best camera best design !!1st iphone 14 !!i tried all  conditions light photo the quality is best i was impressed with device battery backup is good perform is very impressive 🔥\n"
     ]
    },
    {
     "ename": "AttributeError",
     "evalue": "'NoneType' object has no attribute 'div'",
     "output_type": "error",
     "traceback": [
      "\u001b[1;31m---------------------------------------------------------------------------\u001b[0m",
      "\u001b[1;31mAttributeError\u001b[0m                            Traceback (most recent call last)",
      "Cell \u001b[1;32mIn[68], line 2\u001b[0m\n\u001b[0;32m      1\u001b[0m \u001b[38;5;28;01mfor\u001b[39;00m i \u001b[38;5;129;01min\u001b[39;00m  comentbox:\n\u001b[1;32m----> 2\u001b[0m     \u001b[38;5;28mprint\u001b[39m(\u001b[43mi\u001b[49m\u001b[38;5;241;43m.\u001b[39;49m\u001b[43mdiv\u001b[49m\u001b[38;5;241;43m.\u001b[39;49m\u001b[43mdiv\u001b[49m\u001b[38;5;241m.\u001b[39mfind_all(\u001b[38;5;124m\"\u001b[39m\u001b[38;5;124mdiv\u001b[39m\u001b[38;5;124m\"\u001b[39m,{\u001b[38;5;124m\"\u001b[39m\u001b[38;5;124mclass\u001b[39m\u001b[38;5;124m\"\u001b[39m:\u001b[38;5;124m\"\u001b[39m\u001b[38;5;124m\"\u001b[39m})[\u001b[38;5;241m0\u001b[39m]\u001b[38;5;241m.\u001b[39mdiv\u001b[38;5;241m.\u001b[39mtext)\n",
      "\u001b[1;31mAttributeError\u001b[0m: 'NoneType' object has no attribute 'div'"
     ]
    }
   ],
   "source": [
    "for i in  comentbox:\n",
    "    print(i.div.div.find_all(\"div\",{\"class\":\"\"})[0].div.text)"
   ]
  },
  {
   "cell_type": "code",
   "execution_count": null,
   "metadata": {},
   "outputs": [],
   "source": []
  }
 ],
 "metadata": {
  "kernelspec": {
   "display_name": "Python 3 (ipykernel)",
   "language": "python",
   "name": "python3"
  },
  "language_info": {
   "codemirror_mode": {
    "name": "ipython",
    "version": 3
   },
   "file_extension": ".py",
   "mimetype": "text/x-python",
   "name": "python",
   "nbconvert_exporter": "python",
   "pygments_lexer": "ipython3",
   "version": "3.11.4"
  }
 },
 "nbformat": 4,
 "nbformat_minor": 4
}
